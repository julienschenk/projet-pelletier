{
 "cells": [
  {
   "cell_type": "code",
   "execution_count": null,
   "id": "a8228879-6599-40fd-a4d9-f951fc4d78ce",
   "metadata": {},
   "outputs": [],
   "source": [
    "import pandas as pd\n",
    "import numpy as np\n",
    "from sklearn.impute import SimpleImputer, KNNImputer\n",
    "from sklearn.preprocessing import LabelEncoder\n",
    "import matplotlib.pyplot as plt\n",
    "import seaborn as sns\n",
    "from sklearn.model_selection import train_test_split\n",
    "from sklearn.linear_model import LogisticRegression\n",
    "from sklearn.metrics import accuracy_score\n",
    "from scipy import stats"
   ]
  },
  {
   "cell_type": "code",
   "execution_count": null,
   "id": "71048ce4-d381-41d6-9b26-9be62a32c7a2",
   "metadata": {},
   "outputs": [],
   "source": [
    "# Read the CSV file into a Pandas DataFrame\n",
    "df = pd.read_csv(\"C:\\\\Users\\\\Ju\\\\Downloads\\\\titanic\\\\train.csv\")\n",
    "\n",
    "# Print the DataFrame\n",
    "print(df)"
   ]
  },
  {
   "cell_type": "code",
   "execution_count": null,
   "id": "07070aff-5a85-4f2c-9807-1666df0d8bd1",
   "metadata": {},
   "outputs": [],
   "source": [
    "#Première description du jeu de données"
   ]
  },
  {
   "cell_type": "code",
   "execution_count": null,
   "id": "c01edbb9-ae50-44f2-aa69-e2b313dc5587",
   "metadata": {},
   "outputs": [],
   "source": [
    "#On regarde les 5 premières lignes du jeu de données pour s'y familiariser.\n",
    "\n",
    "df.head()"
   ]
  },
  {
   "cell_type": "code",
   "execution_count": null,
   "id": "7134057d-415f-4d56-804c-c800583128ce",
   "metadata": {},
   "outputs": [],
   "source": [
    "#On crée une table de statistiques descriptives pour se familiariser avec les variables numériques\n",
    "\n",
    "df.describe().T"
   ]
  },
  {
   "cell_type": "code",
   "execution_count": null,
   "id": "168659bd-bb02-42aa-977b-5e7a89bff171",
   "metadata": {},
   "outputs": [],
   "source": [
    "#On s'intéresse aux valeurs manquantes. \n",
    "#On remarque que la variable cabin n'a qu'environ 15% de valeurs non nulles.\n",
    "#La variable age a également un nombre significatif de valeurs nulles.\n",
    "\n",
    "\n",
    "df.isnull().sum()"
   ]
  },
  {
   "cell_type": "code",
   "execution_count": null,
   "id": "07a23ae4-8ed8-4a30-a07d-320271ff5d67",
   "metadata": {},
   "outputs": [],
   "source": [
    "#Premier preprocessing : "
   ]
  },
  {
   "cell_type": "code",
   "execution_count": null,
   "id": "269bfcf2-410d-4469-84d2-84a2d1329ea5",
   "metadata": {},
   "outputs": [],
   "source": [
    "#Il n'y a que deux lignes ou l'information d'embarquement est manquante. Nous les supprimons.\n",
    "\n",
    "\n",
    "df = df[df['Embarked'].notnull()]"
   ]
  },
  {
   "cell_type": "code",
   "execution_count": null,
   "id": "a5218df5-fc40-4e4b-8d3b-dbb8e3af76df",
   "metadata": {},
   "outputs": [],
   "source": [
    "#Etant donnée qu'un nombre de passagers n'ont pas de données sur leur age, mais que la variable est potentiellement importante, nous allons imputer aux valeurs manqu\n",
    "df['Age'] = df['Age'].fillna(df['Age'].median())"
   ]
  },
  {
   "cell_type": "code",
   "execution_count": null,
   "id": "b5c38297-f333-4075-baf5-1e8c1c9c3727",
   "metadata": {},
   "outputs": [],
   "source": [
    "#On a vu ci-dessus que plus de la moitié des observations de cabin sont manquantes.\n",
    "#Nous considérons que, de ce fait, il vaut mieux ne pas utiliser cette variable. Nous supprimons donc la colonne 'Cabin'.\n",
    "\n",
    "df = df.drop(columns=['Cabin'])"
   ]
  },
  {
   "cell_type": "code",
   "execution_count": null,
   "id": "72164149-071d-4de6-918d-a72a66e9ffd2",
   "metadata": {},
   "outputs": [],
   "source": [
    "#Ensuite, on cherche à numériser des variables catégorielles"
   ]
  },
  {
   "cell_type": "code",
   "execution_count": null,
   "id": "8d70d6a3-aade-4998-b60e-ff6843729aad",
   "metadata": {},
   "outputs": [],
   "source": [
    "#Les étapes de preprocessing suivantes sont montrées ici, mais le code n'interviendra qu'ultérieurement.\n",
    "#En effet, il est plus pratique de visualiser certaines données catégorielles sans les numériser pour l'instant. La numérisation jouera un rôle dans la la modélisation"
   ]
  },
  {
   "cell_type": "code",
   "execution_count": null,
   "id": "21fdae5d-de9c-4a15-9210-def76f7c59cc",
   "metadata": {},
   "outputs": [],
   "source": [
    "#data_imputed[\"Sex\"] = data_imputed[\"Sex\"].apply(lambda x: 0 if x == \"male\" else 1)\n",
    "#print(data_imputed[\"Sex\"])  # Affichons la variable transformée."
   ]
  },
  {
   "cell_type": "code",
   "execution_count": null,
   "id": "e1bf55db-32b3-451a-98e8-a6947e09d912",
   "metadata": {},
   "outputs": [],
   "source": [
    "#La variable embarked ne serait pas utilisable dans la modélisation ultérieure, du fait de sa nature (catégorielle). Ainsi, on la numérise par label encoding.\n",
    "\n",
    "#le = LabelEncoder()\n",
    "# On encode la colonne 'embarked' (on transforme 'cherbourg', 'southampton' et 'queensland' en 0,1 et 2)\n",
    "#data_imputed[\"Embarked\"] = le.fit_transform(data_imputed[\"Embarked\"])\n",
    "\n",
    "#print(data_imputed[\"Embarked\"])  #On imprime la colonne transformée"
   ]
  }
 ],
 "metadata": {
  "kernelspec": {
   "display_name": "Python 3 (ipykernel)",
   "language": "python",
   "name": "python3"
  },
  "language_info": {
   "codemirror_mode": {
    "name": "ipython",
    "version": 3
   },
   "file_extension": ".py",
   "mimetype": "text/x-python",
   "name": "python",
   "nbconvert_exporter": "python",
   "pygments_lexer": "ipython3",
   "version": "3.11.7"
  }
 },
 "nbformat": 4,
 "nbformat_minor": 5
}
