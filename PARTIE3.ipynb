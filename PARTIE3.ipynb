{
 "cells": [
  {
   "cell_type": "code",
   "execution_count": null,
   "id": "25f618f6-d3b5-4905-add6-7ab592f6abcb",
   "metadata": {},
   "outputs": [],
   "source": [
    "#Nous pouvons passer à l'étape suivante\n",
    "\n",
    "#PARTIE 3/ REGRESSION LOGISTIQUE"
   ]
  },
  {
   "cell_type": "code",
   "execution_count": null,
   "id": "e5819570-c162-40ad-892f-71b1bbf05744",
   "metadata": {},
   "outputs": [],
   "source": [
    "#Pour faire le lien entre la partie 2 et 3\n",
    "df=data"
   ]
  },
  {
   "cell_type": "code",
   "execution_count": null,
   "id": "bdfcf775-b465-42fb-b6aa-221e40177ee3",
   "metadata": {},
   "outputs": [],
   "source": [
    "# On définit les variables explicatives et les variables expliquées du modèle\n",
    "features=['Age', 'Fare','SibSp']\n",
    "X = df[features]  # On prend, de manière arbitraire, les variables 'Age', 'Fare' et 'SibSp' pour une première modélisation\n",
    "y = df['Survived']\n",
    "\n",
    "# On sépare les données, pour créer et tester le modèle (on ne peut pas faire les deux sur les mêmes données, car les estimateurs n'auraient pas de validité externe)\n",
    "X_train, X_test, y_train, y_test = train_test_split(X, y, test_size=0.2, random_state=42)\n",
    "\n",
    "#Spécifions le modèle\n",
    "model = LogisticRegression(random_state=42)\n",
    "model.fit(X_train, y_train)\n",
    "\n",
    "# Créons le vecteur des valeurs prédites\n",
    "y_pred = model.predict(X_test)\n",
    "\n",
    "# Calculons la précision du modèle\n",
    "accuracy = accuracy_score(y_test, y_pred)\n",
    "print(\"Accuracy:\", accuracy)"
   ]
  },
  {
   "cell_type": "code",
   "execution_count": null,
   "id": "aa82c3c2-9529-45bd-b9d2-10a2db48e6f9",
   "metadata": {},
   "outputs": [],
   "source": [
    "#Dans ce premier modèle, nous avons spécifié les variables explicatives de manière arbitraire.\n",
    "#Maintenant, nous allons déterminer les variables explicatives selon un critère déterminé: la corrélation avec la variable expliquée.\n",
    "#Nous allons reprendre le vecteur de corrélation vu précédement, et en extraire les variables le plus liées à la survie des passagers.\n",
    "#Au final, on intègre dans notre régression les variables à coefficient de correlation avec 'Survived' >=0.3"
   ]
  },
  {
   "cell_type": "code",
   "execution_count": null,
   "id": "7e95dbd3-36f5-4942-9ade-1d50f6b63767",
   "metadata": {},
   "outputs": [],
   "source": [
    "#Regarder la correlation des variables avec 'Survived'\n",
    "\n",
    "numerical_features = ['Sex','Age', 'Fare', 'Parch', 'SibSp','Pclass','Embarked']\n",
    "\n",
    "corr_matrices = {}\n",
    "\n",
    "# Calculons le vecteur de corrélation\n",
    "for feature in numerical_features:\n",
    "    corr_matrix = df[[feature, 'Survived']].corr(method='spearman')  # Spearman for mixed data types\n",
    "    corr_matrices[feature] = corr_matrix.iloc[1, 0]  # Extract correlation value with 'Survived'\n",
    "\n",
    "# Affichons le vecteur de corrélation\n",
    "print(\"Correlations avec 'Survived':\")\n",
    "for feature, correlation in corr_matrices.items():\n",
    "    print(f\"{feature}: {correlation:.2f}\")\n"
   ]
  },
  {
   "cell_type": "code",
   "execution_count": null,
   "id": "1aff8ff2-2666-4e37-a5e6-f01cdfec8a41",
   "metadata": {},
   "outputs": [],
   "source": [
    "# On extrait les variables les plus correllées\n",
    "high_corr_features = []\n",
    "for feature, correlation in corr_matrices.items():\n",
    "    if abs(correlation) > 0.3:\n",
    "        high_corr_features.append(feature)\n",
    "\n",
    "# On affiche ces variables (si des variables à rho >= 0.3 existent)\n",
    "if high_corr_features:\n",
    "    print(\"Variables à coeff. de corrélation > 0.3 (en VA):\")\n",
    "    for feature in high_corr_features:\n",
    "        print(f\"- {feature}\")\n",
    "else:\n",
    "    print(\"Il n'y a pas de variables à coeff. de corrélation > 0.3 (en VA) \")"
   ]
  },
  {
   "cell_type": "code",
   "execution_count": null,
   "id": "72dc015b-6d9f-4b61-9b28-d4c97aac3315",
   "metadata": {},
   "outputs": [],
   "source": [
    "# On spécifie maintenant une régression logistique avec nos nouvelles variables.\n",
    "\n",
    "#On affecte les variables à X\n",
    "X = df[high_corr_features]\n",
    "y = df['Survived']\n",
    "\n",
    "# On sépare les données, pour créer et tester le modèle (on ne peut pas faire les deux sur les mêmes données, car les estimateurs n'auraient pas de validité externe)\n",
    "X_train, X_test, y_train, y_test = train_test_split(X, y, test_size=0.2, random_state=42)\n",
    "\n",
    "#Spécifions le modèle\n",
    "model = LogisticRegression(random_state=42)\n",
    "model.fit(X_train, y_train)\n",
    "\n",
    "# Créons le vecteur des valeurs prédites\n",
    "y_pred = model.predict(X_test)\n",
    "\n",
    "# Calculons la précision du modèle.\n",
    "accuracy = accuracy_score(y_test, y_pred)\n",
    "print(\"Accuracy:\", accuracy)"
   ]
  },
  {
   "cell_type": "code",
   "execution_count": null,
   "id": "edb07386-270b-46b9-99ba-cbd997c7086c",
   "metadata": {},
   "outputs": [],
   "source": [
    "#On observe qu'en chosissant les variables explicatives selon le critère de corrélation, on passe d'un pouvoir prédictif de 0.69 à 0.80."
   ]
  },
  {
   "cell_type": "code",
   "execution_count": null,
   "id": "70a71af5-9b84-4eda-b6e4-bd0d95644dc3",
   "metadata": {},
   "outputs": [],
   "source": [
    "#Maintenant, utilisons un autre critère de choix.\n",
    "#Ici, nous intégrons les variables dans le modèle selon que leur association avec la survie est statistiquement significative au seuil de 5%."
   ]
  },
  {
   "cell_type": "code",
   "execution_count": null,
   "id": "db2674dc-5f35-43df-892b-1fe5eb9d087b",
   "metadata": {},
   "outputs": [],
   "source": [
    "\n",
    "# On extrait les variables numériques\n",
    "numeric_cols = df.select_dtypes(include=[np.number])  \n",
    "\n",
    "# Ce vecteur vide contiendra les variables significatives après\n",
    "significant_features = []\n",
    "\n",
    "# Pour tester les différents variables on utilise une boucle\n",
    "for col in numeric_cols.columns:\n",
    "    if col != 'Survived':  # On ne teste pas la variable expliquée\n",
    "        survived_data = df[df['Survived'] == 1][col]\n",
    "        not_survived_data = df[df['Survived'] == 0][col]\n",
    "\n",
    "        # Faisons les t-test\n",
    "        t_stat, p_value = stats.ttest_ind(survived_data, not_survived_data)\n",
    "\n",
    "        # On affiche les résultats des t-test\n",
    "        print(f\"T-statistic for '{col}': {t_stat:.4f}\")   \n",
    "        print(f\"p-value for '{col}': {p_value:.4f}\")      \n",
    "        print(\"-------------------------\")\n",
    "\n",
    "        # On garde les variables selon le seuil de significativité choisi (5%)\n",
    "        if p_value < 0.05:\n",
    "            significant_features.append(col)\n",
    "\n",
    "# On affiche les variables statistiquement significatives \n",
    "print(\"Variables à p-value < 0.05:\")\n",
    "print(*significant_features, sep='\\n')  # Affichons chaque variable l'une après l'autre"
   ]
  }
 ],
 "metadata": {
  "kernelspec": {
   "display_name": "Python 3 (ipykernel)",
   "language": "python",
   "name": "python3"
  },
  "language_info": {
   "codemirror_mode": {
    "name": "ipython",
    "version": 3
   },
   "file_extension": ".py",
   "mimetype": "text/x-python",
   "name": "python",
   "nbconvert_exporter": "python",
   "pygments_lexer": "ipython3",
   "version": "3.11.7"
  }
 },
 "nbformat": 4,
 "nbformat_minor": 5
}
