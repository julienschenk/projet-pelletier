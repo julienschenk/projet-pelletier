{
 "cells": [
  {
   "cell_type": "code",
   "execution_count": 52,
   "id": "8c0f249a-56bb-4205-b1fe-c1b2b6a44e9a",
   "metadata": {},
   "outputs": [],
   "source": [
    "import pandas as pd\n",
    "import numpy as np\n",
    "from sklearn.impute import SimpleImputer, KNNImputer\n",
    "from sklearn.preprocessing import LabelEncoder\n",
    "import matplotlib.pyplot as plt\n",
    "import seaborn as sns\n",
    "from sklearn.model_selection import train_test_split\n",
    "from sklearn.linear_model import LogisticRegression\n",
    "from sklearn.metrics import accuracy_score\n",
    "from scipy import stats\n",
    "from sklearn.model_selection import train_test_split\n",
    "from sklearn.tree import DecisionTreeClassifier\n",
    "from sklearn.ensemble import RandomForestClassifier\n",
    "from sklearn.metrics import accuracy_score\n"
   ]
  },
  {
   "cell_type": "code",
   "execution_count": 53,
   "id": "a7746de2-becb-401c-a869-8faf6418ae7f",
   "metadata": {},
   "outputs": [
    {
     "name": "stdout",
     "output_type": "stream",
     "text": [
      "     PassengerId  Survived  Pclass  \\\n",
      "0              1         0       3   \n",
      "1              2         1       1   \n",
      "2              3         1       3   \n",
      "3              4         1       1   \n",
      "4              5         0       3   \n",
      "..           ...       ...     ...   \n",
      "886          887         0       2   \n",
      "887          888         1       1   \n",
      "888          889         0       3   \n",
      "889          890         1       1   \n",
      "890          891         0       3   \n",
      "\n",
      "                                                  Name     Sex   Age  SibSp  \\\n",
      "0                              Braund, Mr. Owen Harris    male  22.0      1   \n",
      "1    Cumings, Mrs. John Bradley (Florence Briggs Th...  female  38.0      1   \n",
      "2                               Heikkinen, Miss. Laina  female  26.0      0   \n",
      "3         Futrelle, Mrs. Jacques Heath (Lily May Peel)  female  35.0      1   \n",
      "4                             Allen, Mr. William Henry    male  35.0      0   \n",
      "..                                                 ...     ...   ...    ...   \n",
      "886                              Montvila, Rev. Juozas    male  27.0      0   \n",
      "887                       Graham, Miss. Margaret Edith  female  19.0      0   \n",
      "888           Johnston, Miss. Catherine Helen \"Carrie\"  female   NaN      1   \n",
      "889                              Behr, Mr. Karl Howell    male  26.0      0   \n",
      "890                                Dooley, Mr. Patrick    male  32.0      0   \n",
      "\n",
      "     Parch            Ticket     Fare Cabin Embarked  \n",
      "0        0         A/5 21171   7.2500   NaN        S  \n",
      "1        0          PC 17599  71.2833   C85        C  \n",
      "2        0  STON/O2. 3101282   7.9250   NaN        S  \n",
      "3        0            113803  53.1000  C123        S  \n",
      "4        0            373450   8.0500   NaN        S  \n",
      "..     ...               ...      ...   ...      ...  \n",
      "886      0            211536  13.0000   NaN        S  \n",
      "887      0            112053  30.0000   B42        S  \n",
      "888      2        W./C. 6607  23.4500   NaN        S  \n",
      "889      0            111369  30.0000  C148        C  \n",
      "890      0            370376   7.7500   NaN        Q  \n",
      "\n",
      "[891 rows x 12 columns]\n"
     ]
    }
   ],
   "source": [
    "#On charge et affiche les données \n",
    "df = pd.read_csv(\"C:\\\\Users\\\\Ju\\\\Downloads\\\\titanic\\\\train.csv\")\n",
    "\n",
    "print(df)"
   ]
  },
  {
   "cell_type": "code",
   "execution_count": null,
   "id": "ad047010-ad27-489b-bfbb-b29be9e6f1e5",
   "metadata": {},
   "outputs": [],
   "source": [
    "#Première description du jeu de données"
   ]
  },
  {
   "cell_type": "code",
   "execution_count": null,
   "id": "bc90f490-6046-4b25-a2db-f6cea3f6ae09",
   "metadata": {},
   "outputs": [],
   "source": [
    "#On regarde les 5 premières lignes du jeu de données pour s'y familiariser.\n",
    "\n",
    "df.head()"
   ]
  },
  {
   "cell_type": "code",
   "execution_count": null,
   "id": "f21847ce-bade-41db-81fa-f05f7abc5a83",
   "metadata": {},
   "outputs": [],
   "source": [
    "#On crée une table de statistiques descriptives pour se familiariser avec les variables numériques\n",
    "\n",
    "df.describe().T"
   ]
  },
  {
   "cell_type": "code",
   "execution_count": null,
   "id": "3cd6f152-74cc-423d-9469-e72d098e0c93",
   "metadata": {},
   "outputs": [],
   "source": [
    "#On s'intéresse aux valeurs manquantes. \n",
    "#On remarque que la variable cabin n'a qu'environ 15% de valeurs non nulles.\n",
    "#La variable age a également un nombre significatif de valeurs nulles.\n",
    "\n",
    "\n",
    "df.isnull().sum()"
   ]
  },
  {
   "cell_type": "code",
   "execution_count": null,
   "id": "ac9318e6-1690-4190-b2e0-c8f38bbcc1de",
   "metadata": {},
   "outputs": [],
   "source": [
    "#Premier preprocessing : "
   ]
  },
  {
   "cell_type": "code",
   "execution_count": 54,
   "id": "b579912f-9ce2-4171-a949-070a6dbc9eae",
   "metadata": {},
   "outputs": [],
   "source": [
    "#Il n'y a que deux lignes ou l'information d'embarquement est manquante. Nous les supprimons.\n",
    "\n",
    "\n",
    "df = df[df['Embarked'].notnull()]"
   ]
  },
  {
   "cell_type": "code",
   "execution_count": 55,
   "id": "0b9c098d-6b5a-4090-9c76-f996785f2301",
   "metadata": {},
   "outputs": [],
   "source": [
    "df['Age'] = df['Age'].fillna(df['Age'].median())"
   ]
  },
  {
   "cell_type": "code",
   "execution_count": 56,
   "id": "497ad154-07cc-40c2-b957-aa95cab76ef8",
   "metadata": {},
   "outputs": [],
   "source": [
    "#On a vu ci-dessus que plus de la moitié des observations de cabin sont manquantes.\n",
    "#Nous considérons que, de ce fait, il vaut mieux ne pas utiliser cette variable. Nous supprimons donc la colonne 'Cabin'.\n",
    "\n",
    "df = df.drop(columns=['Cabin'])"
   ]
  },
  {
   "cell_type": "code",
   "execution_count": 6,
   "id": "c82b7f96-5272-46a7-a4e0-eeb90c822043",
   "metadata": {},
   "outputs": [],
   "source": [
    "#Ensuite, on cherche à numériser des variables catégorielles"
   ]
  },
  {
   "cell_type": "code",
   "execution_count": 7,
   "id": "5ca9dd18-409d-49a4-9369-9a953ffd0de1",
   "metadata": {},
   "outputs": [
    {
     "name": "stdout",
     "output_type": "stream",
     "text": [
      "Columns with object dtype (potentially categorical):\n",
      "['Name', 'Sex', 'Ticket', 'Embarked']\n"
     ]
    }
   ],
   "source": [
    "#Imprimons le nom des colonnes contenant des variables catégorielles.\n",
    "\n",
    "\n",
    "categorical_cols = df.select_dtypes(include=[object])\n",
    "print(\"Columns with object dtype (potentially categorical):\")\n",
    "print(categorical_cols.columns.tolist())"
   ]
  },
  {
   "cell_type": "code",
   "execution_count": null,
   "id": "cbb6e777-1d05-40b3-a49a-1a45d6fe42f3",
   "metadata": {},
   "outputs": [],
   "source": [
    "#Les étapes de preprocessing suivants sont montrées ici, mais le code n'interviendra qu'ultérieurement.\n",
    "#En effet, il est plus pratique de visualiser certaines données catégorielles sans les numériser pour l'instant. La numérisation jouera un rôle dans la la modélisation"
   ]
  },
  {
   "cell_type": "code",
   "execution_count": null,
   "id": "5dfc436a-e2a6-490a-b3b2-fe60eae5b0ed",
   "metadata": {},
   "outputs": [],
   "source": [
    "#data_imputed[\"Sex\"] = data_imputed[\"Sex\"].apply(lambda x: 0 if x == \"male\" else 1)"
   ]
  },
  {
   "cell_type": "code",
   "execution_count": null,
   "id": "438fa3d6-6db3-4893-824e-d34906f23ef3",
   "metadata": {},
   "outputs": [],
   "source": [
    "#print(data_imputed[\"Sex\"])  # Affichons la variable transformée."
   ]
  },
  {
   "cell_type": "code",
   "execution_count": null,
   "id": "b7b45c4d-5279-4a0b-abe2-8373dab34da3",
   "metadata": {},
   "outputs": [],
   "source": [
    "#La variable embarked ne serait pas utilisable dans la modélisation ultérieure, du fait de sa nature (catégorielle). Ainsi, on la numérise par label encoding.\n",
    "\n",
    "#le = LabelEncoder()\n",
    "# On encode la colonne 'embarked' (on transforme 'cherbourg', 'southampton' et 'queensland' en 0,1 et 2)\n",
    "#data_imputed[\"Embarked\"] = le.fit_transform(data_imputed[\"Embarked\"])\n",
    "\n",
    "#print(data_imputed[\"Embarked\"])  #On imprime la colonne transformée"
   ]
  },
  {
   "cell_type": "code",
   "execution_count": null,
   "id": "47e7ae8d-1d1f-4bde-8d30-a8531164d524",
   "metadata": {},
   "outputs": [],
   "source": [
    "#On peut passer à l'étape suivante\n",
    "\n",
    "#PARTIE 2/ ANALYSE STATISTIQUE"
   ]
  },
  {
   "cell_type": "code",
   "execution_count": 58,
   "id": "1f0f3fcf-4a81-4a13-b915-93ec7133da15",
   "metadata": {},
   "outputs": [],
   "source": [
    "#Pour faire le lien entre la Partie 1 et 2\n",
    "data = df"
   ]
  },
  {
   "cell_type": "code",
   "execution_count": null,
   "id": "fe31bead-93e4-4c64-b29e-9cb74930a3f3",
   "metadata": {},
   "outputs": [],
   "source": [
    "# Ici, nous calculons les statistiques descriptives pour toutes les valeurs numériques\n",
    "\n",
    "numerical_cols = data.select_dtypes(include=[np.number]).columns\n",
    "for col in numerical_cols:\n",
    "  if col != 'PassengerId': #On exclut le numéro de passager\n",
    "    print(f\"\\n**Descriptive statistics of {col}**\")\n",
    "    print(data[col].describe())  # Affichons les résultats"
   ]
  },
  {
   "cell_type": "code",
   "execution_count": null,
   "id": "73163281-e8a5-4eab-9eb0-54c2a45984dc",
   "metadata": {},
   "outputs": [],
   "source": [
    "#Représentons graphiquement la distribution des variables.\n",
    "\n",
    "features = ['Sex', 'Age', 'Fare', 'Parch', 'SibSp', 'Survived', 'Pclass', 'Embarked']\n",
    "\n",
    "# On crée un histogramme pour chaque variable\n",
    "\n",
    "fig, axes = plt.subplots(2, 4, figsize=(12, 6))\n",
    "\n",
    "for i, feature in enumerate(features):\n",
    "    row, col = i // 4, i % 4\n",
    "    sns.histplot(data[feature], ax=axes[row, col])\n",
    "    axes[row, col].set_title(feature)\n",
    "\n",
    "# Pour que les graphiques ne s'emboitent pas\n",
    "plt.tight_layout()\n",
    "\n",
    "# Affichons les grpahiques\n",
    "plt.show()"
   ]
  },
  {
   "cell_type": "code",
   "execution_count": null,
   "id": "0e0b3ad3-9f6a-4f67-92fa-261fc293aa9f",
   "metadata": {},
   "outputs": [],
   "source": [
    "#On observe qu'il y a le double de passagers masculins que de passagers féminins.\n",
    "\n",
    "#La distribution des passagers selon l'age nous semble approximativement normale.\n",
    "\n",
    "#La distribution des prix des billets nous semble lognormale. En effet il y a une forte skewness à gauche.\n",
    "\n",
    "#Les variables Parch et SibSp ont toutes les deux un mode à 0 et, environ 1/4 des observations au dessus de 0.\n",
    "\n",
    "#Environ 60% pourcent des passagers n'ont pas survécu au naufrage.\n",
    "\n",
    "#La distribution des classes est proche de: 50% des passagers en classe 3 et 25% pour chacune des classes 1 et 2.\n",
    "\n",
    "#Environ 2/3 des passagers ont embarqué à Southampton, 20% à Cherbourg et le reste à Queensland."
   ]
  },
  {
   "cell_type": "code",
   "execution_count": null,
   "id": "04194c8a-a962-4082-a8e0-80dbb7a5e086",
   "metadata": {},
   "outputs": [],
   "source": [
    "\n",
    "# Pour la visualisation de la survie des passagers, selon différentes variables.\n",
    "categorical_features = ['Parch', 'SibSp', 'Embarked', 'Sex','Pclass']\n",
    "\n",
    "# On crée un graphique pour la survie, selon chacune des variables ci-dessus\n",
    "for feature in categorical_features:\n",
    "    sns.barplot(x=feature, y='Survived', data=data)\n",
    "    plt.title(f\"Probabilités de survie selon {feature}\")\n",
    "    plt.xlabel(feature)\n",
    "    plt.ylabel(\"Taux de survie\")\n",
    "    plt.show()\n",
    "\n",
    "# Pour une représentation numérique des graphiques \n",
    "for feature in categorical_features:\n",
    "    print(f\"Probabilités de survie selon {feature}:\")\n",
    "    print(data.groupby(feature)['Survived'].mean())\n",
    "    print(\"\\n\")"
   ]
  },
  {
   "cell_type": "code",
   "execution_count": null,
   "id": "c645b917-c062-4442-b7d3-4dc73963d476",
   "metadata": {},
   "outputs": [],
   "source": [
    "#Le taux de survie selon parch est moyen pour une valeur de 0, inférieur à la moyenne pour pour une Valeur de 5. Les autres valeurs on une probabilité de survie  de 10 à 20% au dessus de la moyenne.\n",
    "#Il semble donc que le fait d'appartenir à une famille de taille moyenne augmente les probabilités de survie, vis-à-vis de ménages sans enfants et de grandes familles.\n",
    "\n",
    "#La variable SibSp semble corroborer ceci.\n",
    "\n",
    "#En ce qui concerne le port d'embarquement, il sembe que les passagers ayant embarqué à Cherbourg ont une plus forte probabilité de survie que les autres passagers.\n",
    "\n",
    "#Le fait d'être de sexe féminin confère un significatif avantage en termes de survie. En effet, près de 80% des passagers féminins ont survécu au naufrage, vs. moins de 20% des passagers masculins.\n",
    "\n",
    "#La probabilité de survie des passagers de classe 3 est en dessous de la moyennene. Les passagers de classe 2 ont près de deux fois plus de chance de survivre, et les passagers de classe 1 ont plus de 60% de chance de survivre."
   ]
  },
  {
   "cell_type": "code",
   "execution_count": null,
   "id": "923fbaf5-31eb-4a36-bf8a-29cdf3a96dfb",
   "metadata": {},
   "outputs": [],
   "source": [
    "#Les variables 'Fare' et 'Age' sont difficilement représentables en tant que telles.\n",
    "#Il va nous falloir les condenser en classes"
   ]
  },
  {
   "cell_type": "code",
   "execution_count": null,
   "id": "e8ff0262-c726-4ed5-a237-9b36e0baa13e",
   "metadata": {},
   "outputs": [],
   "source": [
    "#Ici, nous représentons la survie des passagers, selon différentes classes de prix de ticket\n",
    "\n",
    "# On segmente les prix des tickets (une variable continue) en seulement 5 classes.\n",
    "def fare_band(fare):\n",
    "    fare_bands = [0, 50, 100, 200, 1000]\n",
    "    for i in range(len(fare_bands) - 1):\n",
    "        if fare_bands[i] <= fare < fare_bands[i + 1]:\n",
    "            return f\"{fare_bands[i]} ~ {fare_bands[i + 1]}\"\n",
    "    return f\"{fare_bands[-1]}+\"\n",
    "\n",
    "# Créons une nouvelle colonne pour les classes\n",
    "data['fare_band'] = data['Fare'].apply(fare_band)\n",
    "\n",
    "# Calculons la chance de survie, par classe\n",
    "titanic_fare = data[['fare_band', 'Survived']].groupby('fare_band')['Survived'].value_counts().sort_index().unstack().fillna(0)\n",
    "titanic_fare['Survival rate'] = titanic_fare[1] / (titanic_fare[0] + titanic_fare[1]) * 100\n",
    "\n",
    "\n",
    "# Définissons les couleurs\n",
    "color_map = ['#d4dddd' for _ in range(5)]\n",
    "color_map[0] = color_map[4] = '#244747'\n",
    "\n",
    "# Créons le graphique\n",
    "fig, ax = plt.subplots(1, 1, figsize=(10, 7))\n",
    "\n",
    "ax.bar(\n",
    "    titanic_fare['Survival rate'].index,\n",
    "    titanic_fare['Survival rate'],\n",
    "    color=color_map,\n",
    "    width=0.55,\n",
    "    edgecolor='black',\n",
    "    linewidth=0.7\n",
    ")\n",
    "\n",
    "for s in [\"top\", \"right\", \"left\"]:\n",
    "    ax.spines[s].set_visible(False)\n",
    "\n",
    "mean = data['Survived'].mean() * 100\n",
    "ax.axhline(mean, color='black', linewidth=0.4, linestyle='dashdot')\n",
    "ax.annotate(\n",
    "    f\"Moyenne : {mean :.4}%\",\n",
    "    xy=('200 ~ 1000', mean + 4),\n",
    "    va='center',\n",
    "    ha='center',\n",
    "    color='#4a4a4a',\n",
    "    bbox=dict(boxstyle='round', pad=0.4, facecolor='#efe8d1', linewidth=0)\n",
    ")\n",
    "\n",
    "grid_y_ticks = np.arange(0, 101, 20)\n",
    "ax.set_yticks(grid_y_ticks)\n",
    "ax.grid(axis='y', linestyle='-', alpha=0.4)\n",
    "\n",
    "# Annotons le graphique\n",
    "for i in titanic_fare['Survival rate'].index:\n",
    "    ax.annotate(\n",
    "        f\"{titanic_fare['Survival rate'][i]:.02f}%\",\n",
    "        xy=(i, titanic_fare['Survival rate'][i] + 2.3),\n",
    "        va='center',\n",
    "        ha='center',\n",
    "        fontweight='light',\n",
    "        color='#4a4a4a'\n",
    "    )\n",
    "\n",
    "fig.text(0.06, 1, 'Probabilités de survie selon le prix du billet', fontsize=15, fontweight='bold', fontfamily='serif')\n",
    "fig.text(0.06, 0.96, \"Il semble qu'il y ait un lien important entre les chances de survie et le prix du billet\", fontsize=12, fontweight='light', fontfamily='serif')\n",
    "\n",
    "\n",
    "plt.tight_layout()\n",
    "plt.show()\n"
   ]
  },
  {
   "cell_type": "code",
   "execution_count": null,
   "id": "ca6ae1fe-7fed-452b-8485-3c9580798f6e",
   "metadata": {},
   "outputs": [],
   "source": [
    "\n",
    "def age_band(num):\n",
    "    for i in range(1, 100):\n",
    "        if num < 10*i :  return f'{(i-1) * 10} ~ {i*10}'\n",
    "\n",
    "data['age_band'] = data['Age'].apply(age_band)\n",
    "titanic_age = data[['age_band', 'Survived']].groupby('age_band')['Survived'].value_counts().sort_index().unstack().fillna(0)\n",
    "titanic_age['Survival rate'] = titanic_age[1] / (titanic_age[0] + titanic_age[1]) * 100\n",
    "\n",
    "fig, ax = plt.subplots(1, 1, figsize=(10, 7))\n",
    "\n",
    "color_map = ['#d4dddd' for _ in range(9)]\n",
    "color_map[0] = color_map[8] = '#244747' # color highlight\n",
    "\n",
    "ax.bar(titanic_age['Survival rate'].index, titanic_age['Survival rate'], \n",
    "       color=color_map, width=0.55, \n",
    "       edgecolor='black', \n",
    "       linewidth=0.7)\n",
    "\n",
    "\n",
    "\n",
    "for s in [\"top\",\"right\",\"left\"]:\n",
    "    ax.spines[s].set_visible(False)\n",
    "\n",
    "grid_y_ticks = np.arange(0, 101, 20)\n",
    "ax.set_yticks(grid_y_ticks)\n",
    "ax.grid(axis='y', linestyle='-', alpha=0.4)\n",
    "\n",
    "\n",
    "# Annotons le graphique\n",
    "for i in titanic_age['Survival rate'].index:\n",
    "    ax.annotate(f\"{titanic_age['Survival rate'][i]:.02f}%\", \n",
    "                   xy=(i, titanic_age['Survival rate'][i] + 2.3),\n",
    "                   va = 'center', ha='center',fontweight='light', \n",
    "                   color='#4a4a4a')\n",
    "\n",
    "\n",
    "mean = data['Survived'].mean() *100\n",
    "ax.axhline(mean ,color='black', linewidth=0.4, linestyle='dashdot')\n",
    "ax.annotate(f\"Moyenne : {mean :.4}%\", \n",
    "            xy=('70 ~ 80', mean + 4),\n",
    "            va = 'center', ha='center',\n",
    "            color='#4a4a4a',\n",
    "            bbox=dict(boxstyle='round', pad=0.4, facecolor='#efe8d1', linewidth=0))\n",
    "    \n",
    "\n",
    "fig.text(0.06, 1, \"Probabilités de survie selon lâge\", fontsize=15, fontweight='bold', fontfamily='serif')\n",
    "fig.text(0.06, 0.96, 'On voit que le taux de survie est nettement plus élevé chez les plus jeunes et les plus agés.', fontsize=12, fontweight='light', fontfamily='serif')\n",
    "\n",
    "\n",
    "plt.tight_layout()\n",
    "plt.show()"
   ]
  },
  {
   "cell_type": "code",
   "execution_count": null,
   "id": "52a747a8-7088-4575-af80-4758c8ab9efb",
   "metadata": {},
   "outputs": [],
   "source": [
    "\n",
    "# Sur ce scatterplot on représente la distribution des prix de tickets selon l'age des passagers\n",
    "\n",
    "plt.figure(figsize=(8, 6))\n",
    "plt.scatter(data['Age'], data['Fare'], alpha=0.5)\n",
    "plt.xlabel('Age')\n",
    "plt.ylabel('Fare')\n",
    "plt.title('Age vs. Fare Distribution')\n",
    "plt.grid(True)\n",
    "plt.show()\n"
   ]
  },
  {
   "cell_type": "code",
   "execution_count": null,
   "id": "f04ce324-ce19-408a-9b48-5457371ddc3a",
   "metadata": {},
   "outputs": [],
   "source": [
    "#Ensuite, on va chercher à examiner la relation entre la survie des passagers, et plusieurs variables en même temps."
   ]
  },
  {
   "cell_type": "code",
   "execution_count": null,
   "id": "0068bb93-02ce-4513-a5d2-76533c32fd13",
   "metadata": {},
   "outputs": [],
   "source": [
    "#Ici, nous voyons la survie selon le sexe ainsi que la classe de voyage des passagers\n",
    "\n",
    "#Premièrement, on observe que, quelle que soit la classe, les passagers de sexe féminin ont des chances de survie nettement meilleures.\n",
    "\n",
    "#Ensuite, on constate que les chances de survie des femmes sont à peu près équivalentes pour les classes 1 et 2, mais sont quasiment divisées par 2  pour la classe 3.\n",
    "\n",
    "#De plus, les chances de survie des hommes voyageant en classe 1 et la survie des femmes voyageant en classe 3 sont à peu près équivalents. Néanmoins, ces chances de survie sont divsées par 2 pour les classes 2 et 3.\n",
    "\n",
    "ax = sns.catplot(\n",
    "        x='Pclass',\n",
    "        y='Survived',\n",
    "        hue='Sex',\n",
    "        kind='bar',\n",
    "        data=data,\n",
    "    )"
   ]
  },
  {
   "cell_type": "code",
   "execution_count": null,
   "id": "f3314856-d550-4766-992d-2f47654d1f0a",
   "metadata": {},
   "outputs": [],
   "source": [
    "#Ici, nous voyons les probabilités de survie selon la classe de passager et le port d'embarquement.\n",
    "\n",
    "#Comme prévu, ces chances sont décroissantes avec la classe (1 étant la classe prémium et 3 la classe la plus modeste)\n",
    "\n",
    "#On remarque également qu'en moyenne, les passagers embarqués à Southhampton ont de nettement plus faibles probabilités de survie que les passagers embarqués dans les autres ports.\n",
    "\n",
    "with sns.plotting_context('notebook',font_scale=1):\n",
    "\n",
    "    ax = sns.catplot(\n",
    "        x='Pclass',\n",
    "        y='Survived',\n",
    "        hue='Embarked',\n",
    "        kind='bar',\n",
    "        data=data,\n",
    "    )"
   ]
  },
  {
   "cell_type": "code",
   "execution_count": null,
   "id": "82bd6bca-5727-41eb-acfe-b8cb76401768",
   "metadata": {},
   "outputs": [],
   "source": [
    "with sns.plotting_context('notebook',font_scale=1.2):\n",
    "\n",
    "    ax = sns.catplot(\n",
    "        x='Survived',\n",
    "        y='Age',\n",
    "        hue='Sex',\n",
    "        col='Pclass',\n",
    "        data=data,\n",
    "        orient='v',\n",
    "        kind='boxen',\n",
    "    )"
   ]
  },
  {
   "cell_type": "code",
   "execution_count": null,
   "id": "6ecfde35-97d9-4f9b-843d-dbe3519a9c05",
   "metadata": {},
   "outputs": [],
   "source": [
    "#Ici l'on peut nettement voir la différence d'age moyenne entre les passagers des différentes classes."
   ]
  },
  {
   "cell_type": "code",
   "execution_count": 59,
   "id": "8e3a9662-b60e-4f7d-befc-4aa46ec366e4",
   "metadata": {},
   "outputs": [],
   "source": [
    "#Ici, on utilise le code de la partie preprocessing:\n",
    "data[\"Sex\"] = data[\"Sex\"].apply(lambda x: 0 if x == \"male\" else 1)\n"
   ]
  },
  {
   "cell_type": "code",
   "execution_count": 60,
   "id": "a4adec7c-ed29-4c95-811e-837c7ebc216d",
   "metadata": {},
   "outputs": [
    {
     "name": "stdout",
     "output_type": "stream",
     "text": [
      "0      2\n",
      "1      0\n",
      "2      2\n",
      "3      2\n",
      "4      2\n",
      "      ..\n",
      "886    2\n",
      "887    2\n",
      "888    2\n",
      "889    0\n",
      "890    1\n",
      "Name: Embarked, Length: 889, dtype: int32\n"
     ]
    }
   ],
   "source": [
    "#La variable embarked ne serait pas utilisable dans la modélisation ultérieure, du fait de sa nature (catégorielle). Ainsi, on la numérise par label encoding.\n",
    "\n",
    "le = LabelEncoder()\n",
    "# On encode la colonne 'embarked' (on transforme 'cherbourg', 'southampton' et 'queensland' en 0,1 et 2)\n",
    "data[\"Embarked\"] = le.fit_transform(data[\"Embarked\"])\n",
    "\n",
    "print(data[\"Embarked\"])  #On imprime la colonne transformée"
   ]
  },
  {
   "cell_type": "code",
   "execution_count": null,
   "id": "734cd976-5bc6-4288-81da-e23ee4fcf993",
   "metadata": {},
   "outputs": [],
   "source": [
    "#Regardons la correlation des variables entre elles\n",
    "\n",
    "# Selectionnons les variables d'intérêt\n",
    "numerical_features = ['Sex','Age', 'Fare', 'Parch', 'SibSp','Survived','Pclass', 'Embarked']\n",
    "\n",
    "# Créons la matrice des corrélations\n",
    "correlation = data[numerical_features].corr(method='spearman') \n",
    "print(correlation)\n",
    "\n",
    "# Créons le corrélogramme\n",
    "sns.heatmap(correlation, annot=True, cmap='coolwarm')\n",
    "plt.title('Correlation Matrix')\n",
    "plt.show()"
   ]
  },
  {
   "cell_type": "code",
   "execution_count": null,
   "id": "0a689a10-691d-4017-861b-182d221e075e",
   "metadata": {},
   "outputs": [],
   "source": [
    "#Ici, nous examinons la corrélation des différentes variables, avec la variable de survie\n",
    "\n",
    "corr_matrices = {}\n",
    "\n",
    "# Calculons les corrélations avec 'Survived'\n",
    "for feature in numerical_features:\n",
    "    corr_matrix = data[[feature, 'Survived']].corr(method='spearman')  # Spearman for mixed data types\n",
    "    corr_matrices[feature] = corr_matrix.iloc[1, 0]  # Extract correlation value with 'Survived'\n",
    "\n",
    "# Affichons les résultats\n",
    "print(\"Correlations with Survival:\")\n",
    "for feature, correlation in corr_matrices.items():\n",
    "    print(f\"{feature}: {correlation:.2f}\")\n",
    "\n",
    "#NB:Y'a une erreur avec le Nan de sex"
   ]
  },
  {
   "cell_type": "code",
   "execution_count": null,
   "id": "b2972cca-066c-4cfb-999d-9465019f3051",
   "metadata": {},
   "outputs": [],
   "source": [
    "#Ici, nous effectuons des t-test, afin d'examiner la significativité de la relation entre chaque variable numérique et 'Survived' \n",
    "\n",
    "#On extrait les colonnes numériques\n",
    "numeric_cols = data.select_dtypes(include=[np.number])  \n",
    "\n",
    "# Boucle sur chaque colonne numérique (à l'exclusion de la variable cible)\n",
    "for col in numeric_cols.columns:\n",
    "    if col != 'Survived':  # Il faut qu'on spécifie qu'on ne teste pas la variable expliquée.\n",
    "        survived_data = data[data['Survived'] == 1][col]\n",
    "        not_survived_data = data[data['Survived'] == 0][col]\n",
    "\n",
    "        # Effectuons les test\n",
    "        t_stat, p_value = stats.ttest_ind(survived_data, not_survived_data)\n",
    "\n",
    "        # Print results\n",
    "        print(f\"T-statistic for '{col}': {t_stat}\")\n",
    "        print(f\"p-value for '{col}': {p_value}\")\n",
    "        print(\"---------------------\")\n"
   ]
  },
  {
   "cell_type": "code",
   "execution_count": null,
   "id": "34306f9c-ef41-46d3-9306-f54d0ad692be",
   "metadata": {},
   "outputs": [],
   "source": [
    "#Nous pouvons passer à l'étape suivante\n",
    "\n",
    "#PARTIE 3/ REGRESSION LOGISTIQUE"
   ]
  },
  {
   "cell_type": "code",
   "execution_count": 61,
   "id": "13e74f3b-b89a-4bfa-9840-2e07698b5016",
   "metadata": {},
   "outputs": [],
   "source": [
    "#Pour faire le lien entre la partie 2 et 3\n",
    "df=data"
   ]
  },
  {
   "cell_type": "code",
   "execution_count": 9,
   "id": "f38bf4c3-476f-48da-9b64-bcc9203fd56b",
   "metadata": {},
   "outputs": [
    {
     "name": "stdout",
     "output_type": "stream",
     "text": [
      "Accuracy: 0.6966292134831461\n"
     ]
    }
   ],
   "source": [
    "# On définit les variables explicatives et les variables expliquées du modèle\n",
    "features=['Age', 'Fare','SibSp']\n",
    "X = df[features]  # On prend, de manière arbitraire, les variables 'Age', 'Fare' et 'SibSp' pour une première modélisation\n",
    "y = df['Survived']\n",
    "\n",
    "# On sépare les données, pour créer et tester le modèle (on ne peut pas faire les deux sur les mêmes données, car les estimateurs n'auraient pas de validité externe)\n",
    "X_train, X_test, y_train, y_test = train_test_split(X, y, test_size=0.2, random_state=42)\n",
    "\n",
    "#Spécifions le modèle\n",
    "model = LogisticRegression(random_state=42)\n",
    "model.fit(X_train, y_train)\n",
    "\n",
    "# Créons le vecteur des valeurs prédites\n",
    "y_pred = model.predict(X_test)\n",
    "\n",
    "# Calculons la précision du modèle\n",
    "accuracy = accuracy_score(y_test, y_pred)\n",
    "print(\"Accuracy:\", accuracy)"
   ]
  },
  {
   "cell_type": "code",
   "execution_count": 10,
   "id": "749ab666-a722-4bdf-a825-94bf81b975ec",
   "metadata": {},
   "outputs": [],
   "source": [
    "#Dans ce premier modèle, nous avons spécifié les variables explicatives de manière arbitraire.\n",
    "#Maintenant, nous allons déterminer les variables explicatives selon un critère déterminé: la corrélation avec la variable expliquée.\n",
    "#Nous allons reprendre le vecteur de corrélation vu précédement, et en extraire les variables le plus liées à la survie des passagers.\n",
    "#Au final, on intègre dans notre régression les variables à coefficient de correlation avec 'Survived' >=0.3"
   ]
  },
  {
   "cell_type": "code",
   "execution_count": 14,
   "id": "eed65fb5-f9b8-45de-87d8-0f882e685fba",
   "metadata": {},
   "outputs": [
    {
     "name": "stdout",
     "output_type": "stream",
     "text": [
      "Correlations avec 'Survived':\n",
      "Sex: 0.54\n",
      "Age: -0.04\n",
      "Fare: 0.32\n",
      "Parch: 0.14\n",
      "SibSp: 0.09\n",
      "Pclass: -0.34\n",
      "Embarked: -0.16\n"
     ]
    }
   ],
   "source": [
    "#Regarder la correlation des variables avec 'Survived'\n",
    "\n",
    "numerical_features = ['Sex','Age', 'Fare', 'Parch', 'SibSp','Pclass','Embarked']\n",
    "\n",
    "corr_matrices = {}\n",
    "\n",
    "# Calculons le vecteur de corrélation\n",
    "for feature in numerical_features:\n",
    "    corr_matrix = df[[feature, 'Survived']].corr(method='spearman')  # Spearman for mixed data types\n",
    "    corr_matrices[feature] = corr_matrix.iloc[1, 0]  # Extract correlation value with 'Survived'\n",
    "\n",
    "# Affichons le vecteur de corrélation\n",
    "print(\"Correlations avec 'Survived':\")\n",
    "for feature, correlation in corr_matrices.items():\n",
    "    print(f\"{feature}: {correlation:.2f}\")\n"
   ]
  },
  {
   "cell_type": "code",
   "execution_count": 15,
   "id": "29ae3ac2-8e08-4427-a23f-7a16d8baeb5c",
   "metadata": {},
   "outputs": [
    {
     "name": "stdout",
     "output_type": "stream",
     "text": [
      "Variables à coeff. de corrélation > 0.3 (en VA):\n",
      "- Sex\n",
      "- Fare\n",
      "- Pclass\n"
     ]
    }
   ],
   "source": [
    "# On extrait les variables les plus correllées\n",
    "high_corr_features = []\n",
    "for feature, correlation in corr_matrices.items():\n",
    "    if abs(correlation) > 0.3:\n",
    "        high_corr_features.append(feature)\n",
    "\n",
    "# On affiche ces variables (si des variables à rho >= 0.3 existent)\n",
    "if high_corr_features:\n",
    "    print(\"Variables à coeff. de corrélation > 0.3 (en VA):\")\n",
    "    for feature in high_corr_features:\n",
    "        print(f\"- {feature}\")\n",
    "else:\n",
    "    print(\"Il n'y a pas de variables à coeff. de corrélation > 0.3 (en VA) \")"
   ]
  },
  {
   "cell_type": "code",
   "execution_count": 16,
   "id": "0998539a-b846-420d-9f67-09beff5bad8a",
   "metadata": {},
   "outputs": [
    {
     "name": "stdout",
     "output_type": "stream",
     "text": [
      "Accuracy: 0.8033707865168539\n"
     ]
    }
   ],
   "source": [
    "# On spécifie maintenant une régression logistique avec nos nouvelles variables.\n",
    "\n",
    "#On affecte les variables à X\n",
    "X = df[high_corr_features]\n",
    "y = df['Survived']\n",
    "\n",
    "# On sépare les données, pour créer et tester le modèle (on ne peut pas faire les deux sur les mêmes données, car les estimateurs n'auraient pas de validité externe)\n",
    "X_train, X_test, y_train, y_test = train_test_split(X, y, test_size=0.2, random_state=42)\n",
    "\n",
    "#Spécifions le modèle\n",
    "model = LogisticRegression(random_state=42)\n",
    "model.fit(X_train, y_train)\n",
    "\n",
    "# Créons le vecteur des valeurs prédites\n",
    "y_pred = model.predict(X_test)\n",
    "\n",
    "# Calculons la précision du modèle.\n",
    "accuracy = accuracy_score(y_test, y_pred)\n",
    "print(\"Accuracy:\", accuracy)"
   ]
  },
  {
   "cell_type": "code",
   "execution_count": 17,
   "id": "8176649d-423c-4440-a181-5ac89ed55ffe",
   "metadata": {},
   "outputs": [],
   "source": [
    "#On observe qu'en chosissant les variables explicatives selon le critère de corrélation, on passe d'un pouvoir prédictif de 0.69 à 0.80."
   ]
  },
  {
   "cell_type": "code",
   "execution_count": 18,
   "id": "6cf19390-106e-4760-809f-7d959aa46d6f",
   "metadata": {},
   "outputs": [],
   "source": [
    "#Maintenant, utilisons un autre critère de choix.\n",
    "#Ici, nous intégrons les variables dans le modèle selon que leur association avec la survie est statistiquement significative au seuil de 5%."
   ]
  },
  {
   "cell_type": "code",
   "execution_count": 19,
   "id": "5d6840e3-a169-4ea6-b863-cdad18b0df7d",
   "metadata": {},
   "outputs": [
    {
     "name": "stdout",
     "output_type": "stream",
     "text": [
      "T-statistic for 'PassengerId': -0.1498\n",
      "p-value for 'PassengerId': 0.8810\n",
      "-------------------------\n",
      "T-statistic for 'Pclass': -10.6086\n",
      "p-value for 'Pclass': 0.0000\n",
      "-------------------------\n",
      "T-statistic for 'Sex': 19.1874\n",
      "p-value for 'Sex': 0.0000\n",
      "-------------------------\n",
      "T-statistic for 'Age': -2.0846\n",
      "p-value for 'Age': 0.0374\n",
      "-------------------------\n",
      "T-statistic for 'SibSp': -1.0144\n",
      "p-value for 'SibSp': 0.3107\n",
      "-------------------------\n",
      "T-statistic for 'Parch': 2.4850\n",
      "p-value for 'Parch': 0.0131\n",
      "-------------------------\n",
      "T-statistic for 'Fare': 7.8638\n",
      "p-value for 'Fare': 0.0000\n",
      "-------------------------\n",
      "T-statistic for 'Embarked': -5.1290\n",
      "p-value for 'Embarked': 0.0000\n",
      "-------------------------\n",
      "Variables à p-value < 0.05:\n",
      "Pclass\n",
      "Sex\n",
      "Age\n",
      "Parch\n",
      "Fare\n",
      "Embarked\n"
     ]
    }
   ],
   "source": [
    "\n",
    "# On extrait les variables numériques\n",
    "numeric_cols = df.select_dtypes(include=[np.number])  \n",
    "\n",
    "# Ce vecteur vide contiendra les variables significatives après\n",
    "significant_features = []\n",
    "\n",
    "# Pour tester les différents variables on utilise une boucle\n",
    "for col in numeric_cols.columns:\n",
    "    if col != 'Survived':  # On ne teste pas la variable expliquée\n",
    "        survived_data = df[df['Survived'] == 1][col]\n",
    "        not_survived_data = df[df['Survived'] == 0][col]\n",
    "\n",
    "        # Faisons les t-test\n",
    "        t_stat, p_value = stats.ttest_ind(survived_data, not_survived_data)\n",
    "\n",
    "        # On affiche les résultats des t-test\n",
    "        print(f\"T-statistic for '{col}': {t_stat:.4f}\")   \n",
    "        print(f\"p-value for '{col}': {p_value:.4f}\")      \n",
    "        print(\"-------------------------\")\n",
    "\n",
    "        # On garde les variables selon le seuil de significativité choisi (5%)\n",
    "        if p_value < 0.05:\n",
    "            significant_features.append(col)\n",
    "\n",
    "# On affiche les variables statistiquement significatives \n",
    "print(\"Variables à p-value < 0.05:\")\n",
    "print(*significant_features, sep='\\n')  # Affichons chaque variable l'une après l'autre"
   ]
  },
  {
   "cell_type": "code",
   "execution_count": 20,
   "id": "baa7a2ef-ecf9-4be2-b4bf-66661fc6f73b",
   "metadata": {},
   "outputs": [
    {
     "name": "stdout",
     "output_type": "stream",
     "text": [
      "Accuracy: 0.7921348314606742\n"
     ]
    }
   ],
   "source": [
    "# On spécifie maintenant une régression logistique avec nos nouvelles variables.\n",
    "\n",
    "#On affecte les variables significatives à X\n",
    "X = df[significant_features]\n",
    "y = df['Survived']\n",
    "\n",
    "# On sépare les données, pour créer et tester le modèle (on ne peut pas faire les deux sur les mêmes données, car les estimateurs n'auraient pas de validité externe)\n",
    "X_train, X_test, y_train, y_test = train_test_split(X, y, test_size=0.2, random_state=42)\n",
    "\n",
    "#Spécifions le modèle\n",
    "model = LogisticRegression(random_state=42)\n",
    "model.fit(X_train, y_train)\n",
    "\n",
    "# Créons le vecteur des valeurs prédites\n",
    "y_pred = model.predict(X_test)\n",
    "\n",
    "# Calculons la précision du modèle.\n",
    "accuracy = accuracy_score(y_test, y_pred)\n",
    "print(\"Accuracy:\", accuracy)\n"
   ]
  },
  {
   "cell_type": "code",
   "execution_count": 21,
   "id": "583ad78f-e952-4062-95bc-997253d3d537",
   "metadata": {},
   "outputs": [],
   "source": [
    "#On observe que, bien qu'on retienne plus de variables que selon le critère de corrélation, le pouvoir prédictif de notre modèle baisse légèrement."
   ]
  },
  {
   "cell_type": "code",
   "execution_count": null,
   "id": "1e0446a7-ee06-4f0e-8560-b428cd571602",
   "metadata": {},
   "outputs": [],
   "source": [
    "#Un autre type de modélisation à considérer est la classification par arbres décisionnels."
   ]
  },
  {
   "cell_type": "code",
   "execution_count": 63,
   "id": "8dcd1cb0-f9dc-494a-8d1a-4d4ddef543ae",
   "metadata": {},
   "outputs": [],
   "source": [
    "# On choisit les variables explicatives et la variable expliquée\n",
    "features = ['Sex','Age', 'Fare', 'Parch', 'SibSp','Pclass','Embarked']  \n",
    "target = 'Survived'"
   ]
  },
  {
   "cell_type": "code",
   "execution_count": 64,
   "id": "36622cf4-05f3-4377-bb9d-ed56567a87c9",
   "metadata": {},
   "outputs": [],
   "source": [
    "#On segmente le jeu de données\n",
    "X_train, X_test, y_train, y_test = train_test_split(df[features], df[target], test_size=0.2)"
   ]
  },
  {
   "cell_type": "code",
   "execution_count": 67,
   "id": "579e9368-290d-4fd8-9bf0-dfeb4aabf912",
   "metadata": {},
   "outputs": [
    {
     "name": "stdout",
     "output_type": "stream",
     "text": [
      "Decision Tree Accuracy: 0.8202247191011236\n"
     ]
    }
   ],
   "source": [
    "# On spécifie le modèle\n",
    "decision_tree = DecisionTreeClassifier(max_depth=5)  \n",
    "decision_tree.fit(X_train, y_train)\n",
    "\n",
    "#On affiche le pouvoir prédictif\n",
    "decision_tree_accuracy = accuracy_score(y_test, decision_tree.predict(X_test))\n",
    "\n",
    "print(\"Decision Tree Accuracy:\", decision_tree_accuracy)"
   ]
  },
  {
   "cell_type": "code",
   "execution_count": null,
   "id": "4ea2bf02-67d7-4b01-8bd3-1f091bd12c33",
   "metadata": {},
   "outputs": [],
   "source": [
    "#On remarque que le pouvoir prédictif du modèle à arbres décisionnels est marginalment meilleur que celui de la régression logistique."
   ]
  }
 ],
 "metadata": {
  "kernelspec": {
   "display_name": "Python 3 (ipykernel)",
   "language": "python",
   "name": "python3"
  },
  "language_info": {
   "codemirror_mode": {
    "name": "ipython",
    "version": 3
   },
   "file_extension": ".py",
   "mimetype": "text/x-python",
   "name": "python",
   "nbconvert_exporter": "python",
   "pygments_lexer": "ipython3",
   "version": "3.11.7"
  }
 },
 "nbformat": 4,
 "nbformat_minor": 5
}
